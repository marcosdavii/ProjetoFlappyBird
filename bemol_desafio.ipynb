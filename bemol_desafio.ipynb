{
  "nbformat": 4,
  "nbformat_minor": 0,
  "metadata": {
    "colab": {
      "name": "bemol_desafio",
      "provenance": [],
      "collapsed_sections": [],
      "include_colab_link": true
    },
    "kernelspec": {
      "name": "python3",
      "display_name": "Python 3"
    }
  },
  "cells": [
    {
      "cell_type": "markdown",
      "metadata": {
        "id": "view-in-github",
        "colab_type": "text"
      },
      "source": [
        "<a href=\"https://colab.research.google.com/github/marcosdavii/ProjetoFlappyBird/blob/master/bemol_desafio.ipynb\" target=\"_parent\"><img src=\"https://colab.research.google.com/assets/colab-badge.svg\" alt=\"Open In Colab\"/></a>"
      ]
    },
    {
      "cell_type": "code",
      "metadata": {
        "id": "_IbwVZNC0FxA",
        "colab_type": "code",
        "outputId": "f0baa9f4-de6f-4c1b-f6c4-1f241fe46493",
        "colab": {
          "base_uri": "https://localhost:8080/",
          "height": 665
        }
      },
      "source": [
        "import pandas as pd;\n",
        "from IPython.display import display;\n",
        "from IPython.display import Image;\n",
        "import numpy as np\n",
        "import matplotlib.pyplot as plt\n",
        "\n",
        "\n",
        "\n",
        "\n",
        "left = pd.DataFrame({   'Mes': ['Janeiro','Fevereiro', 'Março', 'Abril', 'Maio', 'Junho', 'Julho', 'Agosto', 'Setembro', 'Outubro', 'Novembro', 'Dezembro'],\n",
        "                       'Orcado': ['330', '290', '230', '321', '283', '291', '193', '259', '289', '230', '434', '421']})\n",
        "res = pd.DataFrame({'Dff': ['90', '10', '30', '11', '53', '78', '46', '49', '79', '20', '202', '208']})\n",
        "\n",
        "rigth = pd.DataFrame({ 'Mes': ['Janeiro','Fevereiro', 'Março', 'Abril', 'Maio', 'Junho', 'Julho', 'Agosto', 'Setembro', 'Outubro', 'Novembro', 'Dezembro'],\n",
        "                      'Realizado': ['240', '280', '200', '310', '230', '213', '239', '210', '210', '210', '232', '213']})\n",
        "\n",
        "result = pd.merge(left, rigth, on='Mes', )\n",
        "\n",
        "result.insert(loc=3, column='Dff', value=['90', '10', '30', '11', '53', '78', '46', '49', '79', '20', '202', '208'])\n",
        "\n",
        "print(result)\n",
        "\n",
        "\n",
        "N = 12\n",
        "Orcado = (330, 290, 230, 321, 283, 291, 193, 259, 289, 230, 434, 421)\n",
        "Realizado = (240, 280, 200, 310, 230, 213, 239, 210, 210, 210, 232, 213)\n",
        "\n",
        "\n",
        "\n",
        "ind = np.arange(N) \n",
        "width = 0.40     \n",
        "p1 = plt.bar(ind, Orcado, width,)\n",
        "p2 = plt.bar(ind, Realizado, width,)\n",
        "plt.rcParams['figure.figsize'] = (25,7)\n",
        "plt.ylabel('Scores')\n",
        "plt.title('Gráfico Orçamento')\n",
        "plt.xticks(ind, ('Janeiro','Fevereiro', 'Março', 'Abril', 'Maio', 'Junho', 'Julho', 'Agosto', 'Setembro', 'Outubro', 'Novembro', 'Dezembro'))\n",
        "plt.yticks(np.arange(100, 500, 100))\n",
        "\n",
        "\n",
        "plt.show()\n",
        "\n",
        "\n",
        "result.to_csv('bemol_desafio.csv', index=False)\n",
        "\n"
      ],
      "execution_count": 97,
      "outputs": [
        {
          "output_type": "stream",
          "text": [
            "          Mes Orcado Realizado  Dff\n",
            "0     Janeiro    330       240   90\n",
            "1   Fevereiro    290       280   10\n",
            "2       Março    230       200   30\n",
            "3       Abril    321       310   11\n",
            "4        Maio    283       230   53\n",
            "5       Junho    291       213   78\n",
            "6       Julho    193       239   46\n",
            "7      Agosto    259       210   49\n",
            "8    Setembro    289       210   79\n",
            "9     Outubro    230       210   20\n",
            "10   Novembro    434       232  202\n",
            "11   Dezembro    421       213  208\n"
          ],
          "name": "stdout"
        },
        {
          "output_type": "display_data",
          "data": {
            "image/png": "[encoded data removed]",
            "text/plain": [
              "<Figure size 1800x504 with 1 Axes>"
            ]
          },
          "metadata": {
            "tags": []
          }
        }
      ]
    },
    {
      "cell_type": "markdown",
      "metadata": {
        "id": "-knBeI5VR875",
        "colab_type": "text"
      },
      "source": [
        ""
      ]
    }
  ]
}